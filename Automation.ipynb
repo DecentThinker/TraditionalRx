{
 "cells": [
  {
   "cell_type": "code",
   "execution_count": 15,
   "id": "81564a97-9eab-470e-9e0a-23ca076d5b92",
   "metadata": {},
   "outputs": [
    {
     "ename": "TypeError",
     "evalue": "'NoneType' object is not iterable",
     "output_type": "error",
     "traceback": [
      "\u001b[1;31m---------------------------------------------------------------------------\u001b[0m",
      "\u001b[1;31mTypeError\u001b[0m                                 Traceback (most recent call last)",
      "Cell \u001b[1;32mIn[15], line 53\u001b[0m\n\u001b[0;32m     51\u001b[0m WebDriverWait(driver, \u001b[38;5;241m10\u001b[39m)\u001b[38;5;241m.\u001b[39muntil(EC\u001b[38;5;241m.\u001b[39mpresence_of_element_located((By\u001b[38;5;241m.\u001b[39mCSS_SELECTOR, \u001b[38;5;124m'\u001b[39m\u001b[38;5;124minput[name=\u001b[39m\u001b[38;5;124m\"\u001b[39m\u001b[38;5;124mCompounds\u001b[39m\u001b[38;5;124m\"\u001b[39m\u001b[38;5;124m]\u001b[39m\u001b[38;5;124m'\u001b[39m)))\u001b[38;5;241m.\u001b[39msend_keys(compounds)\n\u001b[0;32m     52\u001b[0m WebDriverWait(driver, \u001b[38;5;241m10\u001b[39m)\u001b[38;5;241m.\u001b[39muntil(EC\u001b[38;5;241m.\u001b[39mpresence_of_element_located((By\u001b[38;5;241m.\u001b[39mCSS_SELECTOR, \u001b[38;5;124m'\u001b[39m\u001b[38;5;124minput[name=\u001b[39m\u001b[38;5;124m\"\u001b[39m\u001b[38;5;124mMethodology\u001b[39m\u001b[38;5;124m\"\u001b[39m\u001b[38;5;124m]\u001b[39m\u001b[38;5;124m'\u001b[39m)))\u001b[38;5;241m.\u001b[39msend_keys(methodology)\n\u001b[1;32m---> 53\u001b[0m WebDriverWait(driver, \u001b[38;5;241m10\u001b[39m)\u001b[38;5;241m.\u001b[39muntil(EC\u001b[38;5;241m.\u001b[39mpresence_of_element_located((By\u001b[38;5;241m.\u001b[39mCSS_SELECTOR, \u001b[38;5;124m'\u001b[39m\u001b[38;5;124minput[name=\u001b[39m\u001b[38;5;124m\"\u001b[39m\u001b[38;5;124mReference\u001b[39m\u001b[38;5;124m\"\u001b[39m\u001b[38;5;124m]\u001b[39m\u001b[38;5;124m'\u001b[39m)))\u001b[38;5;241m.\u001b[39msend_keys(reference)\n\u001b[0;32m     54\u001b[0m WebDriverWait(driver, \u001b[38;5;241m10\u001b[39m)\u001b[38;5;241m.\u001b[39muntil(EC\u001b[38;5;241m.\u001b[39mpresence_of_element_located((By\u001b[38;5;241m.\u001b[39mCSS_SELECTOR, \u001b[38;5;124m'\u001b[39m\u001b[38;5;124minput[name=\u001b[39m\u001b[38;5;124m\"\u001b[39m\u001b[38;5;124mImageFile\u001b[39m\u001b[38;5;124m\"\u001b[39m\u001b[38;5;124m]\u001b[39m\u001b[38;5;124m'\u001b[39m)))\u001b[38;5;241m.\u001b[39msend_keys(image_path)\n\u001b[0;32m     56\u001b[0m categories \u001b[38;5;241m=\u001b[39m category\u001b[38;5;241m.\u001b[39msplit(\u001b[38;5;124m'\u001b[39m\u001b[38;5;124m,\u001b[39m\u001b[38;5;124m'\u001b[39m)\n",
      "File \u001b[1;32m~\\anaconda3\\Lib\\site-packages\\selenium\\webdriver\\remote\\webelement.py:232\u001b[0m, in \u001b[0;36mWebElement.send_keys\u001b[1;34m(self, *value)\u001b[0m\n\u001b[0;32m    228\u001b[0m             remote_files\u001b[38;5;241m.\u001b[39mappend(\u001b[38;5;28mself\u001b[39m\u001b[38;5;241m.\u001b[39m_upload(file))\n\u001b[0;32m    229\u001b[0m         value \u001b[38;5;241m=\u001b[39m \u001b[38;5;124m\"\u001b[39m\u001b[38;5;130;01m\\n\u001b[39;00m\u001b[38;5;124m\"\u001b[39m\u001b[38;5;241m.\u001b[39mjoin(remote_files)\n\u001b[0;32m    231\u001b[0m \u001b[38;5;28mself\u001b[39m\u001b[38;5;241m.\u001b[39m_execute(\n\u001b[1;32m--> 232\u001b[0m     Command\u001b[38;5;241m.\u001b[39mSEND_KEYS_TO_ELEMENT, {\u001b[38;5;124m\"\u001b[39m\u001b[38;5;124mtext\u001b[39m\u001b[38;5;124m\"\u001b[39m: \u001b[38;5;124m\"\u001b[39m\u001b[38;5;124m\"\u001b[39m\u001b[38;5;241m.\u001b[39mjoin(keys_to_typing(value)), \u001b[38;5;124m\"\u001b[39m\u001b[38;5;124mvalue\u001b[39m\u001b[38;5;124m\"\u001b[39m: keys_to_typing(value)}\n\u001b[0;32m    233\u001b[0m )\n",
      "File \u001b[1;32m~\\anaconda3\\Lib\\site-packages\\selenium\\webdriver\\common\\utils.py:137\u001b[0m, in \u001b[0;36mkeys_to_typing\u001b[1;34m(value)\u001b[0m\n\u001b[0;32m    135\u001b[0m         characters\u001b[38;5;241m.\u001b[39mextend(\u001b[38;5;28mstr\u001b[39m(val))\n\u001b[0;32m    136\u001b[0m     \u001b[38;5;28;01melse\u001b[39;00m:\n\u001b[1;32m--> 137\u001b[0m         characters\u001b[38;5;241m.\u001b[39mextend(val)\n\u001b[0;32m    138\u001b[0m \u001b[38;5;28;01mreturn\u001b[39;00m characters\n",
      "\u001b[1;31mTypeError\u001b[0m: 'NoneType' object is not iterable"
     ]
    }
   ],
   "source": [
    "from selenium import webdriver\n",
    "from selenium.webdriver.common.keys import Keys\n",
    "from selenium.webdriver.common.by import By\n",
    "from selenium.webdriver.support.ui import WebDriverWait\n",
    "from selenium.webdriver.support import expected_conditions as EC\n",
    "from selenium.webdriver.support.ui import Select\n",
    "import openpyxl\n",
    "import time\n",
    "\n",
    "# Load Excel file\n",
    "workbook = openpyxl.load_workbook('ayurveda.xlsx')\n",
    "sheet = workbook.active\n",
    "\n",
    "# Initialize Chrome web browser\n",
    "driver = webdriver.Chrome()\n",
    "\n",
    "# Open the login page\n",
    "login_url = \"https://localhost:44330/UserAuthentication/Login\"\n",
    "driver.get(login_url)\n",
    "\n",
    "# Find the username and password fields and fill them in\n",
    "username = WebDriverWait(driver, 10).until(EC.presence_of_element_located((By.CSS_SELECTOR, 'input[name=\"Username\"]')))\n",
    "username.send_keys(\"Admin\")  \n",
    "\n",
    "password = WebDriverWait(driver, 10).until(EC.presence_of_element_located((By.CSS_SELECTOR, 'input[name=\"Password\"]')))\n",
    "password.send_keys(\"Admin@123\")  \n",
    "\n",
    "# Find and click the login button\n",
    "login_button = WebDriverWait(driver, 10).until(EC.element_to_be_clickable((By.CSS_SELECTOR, 'button[type=\"submit\"]')))\n",
    "login_button.click()\n",
    "\n",
    "# Wait for the login process to complete\n",
    "time.sleep(2)\n",
    "\n",
    "# Now you should be logged in, navigate to the desired URL\n",
    "desired_url = \"https://localhost:44330/Medicine/Add\"\n",
    "\n",
    "driver.get(desired_url)\n",
    "\n",
    "# Iterate through rows in Excel file\n",
    "for row in sheet.iter_rows(min_row=2, max_row=sheet.max_row, values_only=True):\n",
    "    # Extract data from Excel\n",
    "    scientific_name, common_name, family, parts_of_plant, components, compounds, methodology, reference, image_path, category = row\n",
    "\n",
    "    # Fill the form\n",
    "    WebDriverWait(driver, 10).until(EC.presence_of_element_located((By.CSS_SELECTOR, 'input[name=\"ScientificName\"]'))).send_keys(scientific_name)\n",
    "    WebDriverWait(driver, 10).until(EC.presence_of_element_located((By.CSS_SELECTOR, 'input[name=\"CommonName\"]'))).send_keys(common_name)\n",
    "    WebDriverWait(driver, 10).until(EC.presence_of_element_located((By.CSS_SELECTOR, 'input[name=\"Family\"]'))).send_keys(family)\n",
    "    WebDriverWait(driver, 10).until(EC.presence_of_element_located((By.CSS_SELECTOR, 'input[name=\"PartsOfPlant\"]'))).send_keys(parts_of_plant)\n",
    "    WebDriverWait(driver, 10).until(EC.presence_of_element_located((By.CSS_SELECTOR, 'input[name=\"Components\"]'))).send_keys(components)\n",
    "    WebDriverWait(driver, 10).until(EC.presence_of_element_located((By.CSS_SELECTOR, 'input[name=\"Compounds\"]'))).send_keys(compounds)\n",
    "    WebDriverWait(driver, 10).until(EC.presence_of_element_located((By.CSS_SELECTOR, 'input[name=\"Methodology\"]'))).send_keys(methodology)\n",
    "    WebDriverWait(driver, 10).until(EC.presence_of_element_located((By.CSS_SELECTOR, 'input[name=\"Reference\"]'))).send_keys(reference)\n",
    "    WebDriverWait(driver, 10).until(EC.presence_of_element_located((By.CSS_SELECTOR, 'input[name=\"ImageFile\"]'))).send_keys(image_path)\n",
    "\n",
    "    categories = category.split(',')\n",
    "    select = Select(WebDriverWait(driver, 10).until(EC.presence_of_element_located((By.CSS_SELECTOR, 'select[name=\"Categories\"]'))))\n",
    "    for cat in categories:\n",
    "        select.select_by_visible_text(cat.strip())\n",
    "\n",
    "    # Click on the Save button\n",
    "    WebDriverWait(driver, 10).until(EC.element_to_be_clickable((By.CSS_SELECTOR, 'button[type=\"submit\"]'))).click()\n",
    "\n",
    "    # Wait for the form to be submitted and the next page to load\n",
    "    time.sleep(2)\n",
    "\n",
    "# Close the browser\n",
    "driver.quit()\n"
   ]
  },
  {
   "cell_type": "code",
   "execution_count": null,
   "id": "17c841e9-0c5f-4bb7-8324-0da85196a69c",
   "metadata": {},
   "outputs": [],
   "source": []
  }
 ],
 "metadata": {
  "kernelspec": {
   "display_name": "Python 3 (ipykernel)",
   "language": "python",
   "name": "python3"
  },
  "language_info": {
   "codemirror_mode": {
    "name": "ipython",
    "version": 3
   },
   "file_extension": ".py",
   "mimetype": "text/x-python",
   "name": "python",
   "nbconvert_exporter": "python",
   "pygments_lexer": "ipython3",
   "version": "3.11.7"
  }
 },
 "nbformat": 4,
 "nbformat_minor": 5
}
